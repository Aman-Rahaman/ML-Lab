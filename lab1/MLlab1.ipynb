{
 "cells": [
  {
   "cell_type": "code",
   "execution_count": 1,
   "id": "1fd03a65-742d-406f-9679-135d2b47acf7",
   "metadata": {},
   "outputs": [
    {
     "name": "stdin",
     "output_type": "stream",
     "text": [
      " 4\n",
      " 5\n"
     ]
    },
    {
     "name": "stdout",
     "output_type": "stream",
     "text": [
      "area : 20\n"
     ]
    }
   ],
   "source": [
    "# Write a python program to find the area of a rectangle. Take length\n",
    "# and breadth as input from the user.\n",
    "\n",
    "length = int(input())\n",
    "breadth = int(input())\n",
    "print(\"area :\", length*breadth)"
   ]
  },
  {
   "cell_type": "code",
   "execution_count": 3,
   "id": "17449e4c-df31-47d6-981d-4eee13b8302a",
   "metadata": {},
   "outputs": [
    {
     "name": "stdin",
     "output_type": "stream",
     "text": [
      " 56\n"
     ]
    },
    {
     "name": "stdout",
     "output_type": "stream",
     "text": [
      "NO\n"
     ]
    }
   ],
   "source": [
    "#Write a python program to find whether a given number is prime or not.\n",
    "\n",
    "num = int(input())\n",
    "if(num <= 1):\n",
    "    print(\"NO\")\n",
    "else:\n",
    "    prime = False\n",
    "    for i in range(2, num):\n",
    "        if num%i==0:\n",
    "            prime = True\n",
    "            break\n",
    "    if prime:\n",
    "        print(\"NO\")\n",
    "    else:\n",
    "        print(\"YES\")"
   ]
  },
  {
   "cell_type": "code",
   "execution_count": 4,
   "id": "14ee8dea-7446-4d1d-847d-4b311f118ea3",
   "metadata": {},
   "outputs": [
    {
     "name": "stdin",
     "output_type": "stream",
     "text": [
      "x1 :  2\n",
      "y1 :  3\n",
      "y1 :  4\n",
      "y2 :  5\n"
     ]
    },
    {
     "name": "stdout",
     "output_type": "stream",
     "text": [
      "distance : 2.8284271247461903\n"
     ]
    }
   ],
   "source": [
    "# Write a python program to find distance between two points (𝑥1, 𝑦1)\n",
    "# and (𝑥2, 𝑦2)\n",
    "\n",
    "x1= int(input(\"x1 : \"))\n",
    "y1= int(input(\"y1 : \"))\n",
    "x2= int(input(\"y1 : \"))\n",
    "y2= int(input(\"y2 : \"))\n",
    "\n",
    "print(\"distance :\", (((x1-x2)**2) + ((y1-y2)**2))**0.5)"
   ]
  },
  {
   "cell_type": "code",
   "execution_count": 8,
   "id": "7b0b55e0-8ba9-4213-9b27-abce79700e37",
   "metadata": {},
   "outputs": [
    {
     "name": "stdout",
     "output_type": "stream",
     "text": [
      "* * * * * \n",
      "\n",
      "* * * * \n",
      "\n",
      "* * * \n",
      "\n",
      "* * \n",
      "\n",
      "* \n",
      "\n",
      "* \n",
      "\n",
      "* * \n",
      "\n",
      "* * * \n",
      "\n",
      "* * * * \n",
      "\n"
     ]
    }
   ],
   "source": [
    "# Write a program to print the given pattern using a for loop\n",
    "\n",
    "\n",
    "# for i in range(5, 1, -1):\n",
    "#     print(\"* \" * i)\n",
    "#     print()\n",
    "# for i in range(1, 6):\n",
    "#     print(\"* \" * i)\n",
    "#     print()\n",
    "\n",
    "for i in range(10):\n",
    "    n = 5-i\n",
    "    if n>0:\n",
    "        print(\"* \" * n)\n",
    "        print()\n",
    "    elif n<0:\n",
    "        n = -n\n",
    "        print(\"* \" * n)\n",
    "        print()\n",
    "        "
   ]
  },
  {
   "cell_type": "markdown",
   "id": "8aede781-d327-49c5-895b-f466f079d1ee",
   "metadata": {},
   "source": [
    "# Create an empty dictionary named ‘student records"
   ]
  },
  {
   "cell_type": "code",
   "execution_count": 9,
   "id": "83b810f1-d32d-4d54-b8be-8de63c2a643a",
   "metadata": {},
   "outputs": [],
   "source": [
    "\n",
    "\n",
    "student_records = dict()\n",
    "\n",
    "\n"
   ]
  },
  {
   "cell_type": "markdown",
   "id": "efd56ed4-0470-4a33-bfa2-879c41095269",
   "metadata": {},
   "source": [
    "# Add 3 student records to the dictionary. Each record should\n",
    "# include the student's name as the key and a list of marks in\n",
    "# Physics, Chemistry, and Mathematics as the value. "
   ]
  },
  {
   "cell_type": "code",
   "execution_count": 10,
   "id": "67c16c2d-efc9-4053-9aa9-d9235fbb7c0f",
   "metadata": {},
   "outputs": [],
   "source": [
    "student_records[\"John\"] = [85, 92, 78]\n",
    "student_records[\"David\"] = [76, 88, 90]\n",
    "student_records[\"George\"] = [52, 68, 84]\n"
   ]
  },
  {
   "cell_type": "code",
   "execution_count": 11,
   "id": "89b6a0cb-2d68-481a-bffc-ae527290ab74",
   "metadata": {},
   "outputs": [
    {
     "name": "stdout",
     "output_type": "stream",
     "text": [
      "John physics: 85 ;  chem: 92 math: 78\n",
      "David physics: 85 ;  chem: 92 math: 78\n",
      "George physics: 85 ;  chem: 92 math: 78\n"
     ]
    }
   ],
   "source": [
    "# Print the student records in a readable format, showing each student's\n",
    "# name and their respective marks in Physics, Chemistry, and\n",
    "# Mathematics.Print the student records in a readable format, showing each student's\n",
    "# name and their respective marks in Physics, Chemistry, and\n",
    "# Mathematics.\n",
    "\n",
    "for name in student_records:\n",
    "    print(name, \"physics:\", student_records[name][0], \"; \", \"chem:\", student_records[name][1], \"math:\", student_records[name][2])"
   ]
  },
  {
   "cell_type": "code",
   "execution_count": 13,
   "id": "7e43dfd6-d7e9-410b-a3cf-bb2a5f1726c5",
   "metadata": {},
   "outputs": [
    {
     "name": "stdout",
     "output_type": "stream",
     "text": [
      "avarage marks of John is 85.0\n",
      "[85, 92, 78]\n",
      "avarage marks of David is 84.66666666666667\n",
      "[76, 88, 90]\n",
      "avarage marks of George is 68.0\n",
      "[52, 68, 84]\n"
     ]
    }
   ],
   "source": [
    "# Calculate and print the average marks for each student.\n",
    "\n",
    "for name in student_records:\n",
    "    print(\"avarage marks of\", name, \"is\", sum(student_records[name])/len(student_records[name]))\n",
    "    print(student_records[name])"
   ]
  },
  {
   "cell_type": "code",
   "execution_count": 14,
   "id": "1300fb88-9636-4c8c-9c90-a2046335f1ac",
   "metadata": {},
   "outputs": [
    {
     "name": "stdout",
     "output_type": "stream",
     "text": [
      "John\n"
     ]
    }
   ],
   "source": [
    "# Find and print the student with the highest total marks.\n",
    "\n",
    "maxMarks = 0\n",
    "student = \"\"\n",
    "for name in student_records:\n",
    "    marks = sum(student_records[name])\n",
    "    if marks>maxMarks:\n",
    "        maxMarks = marks\n",
    "        student = name\n",
    "print(student)"
   ]
  },
  {
   "cell_type": "code",
   "execution_count": 16,
   "id": "ba615c61-418d-43b7-be64-683949aa9e59",
   "metadata": {},
   "outputs": [
    {
     "name": "stdout",
     "output_type": "stream",
     "text": [
      "{'George': [52, 68, 84]}\n"
     ]
    }
   ],
   "source": [
    "# Use a dictionary comprehension to create a new dictionary named\n",
    "# failed students that includes students who have failed in at least one\n",
    "# subject. A student is considered to have failed if their mark in any\n",
    "# subject is below 60.\n",
    "\n",
    "failed_students = {name: student_records[name] for name in student_records if min(student_records[name])<60}\n",
    "print(failed_students)"
   ]
  },
  {
   "cell_type": "code",
   "execution_count": 19,
   "id": "e6eb60a2-ca67-4e03-a427-08aa3304d6c1",
   "metadata": {},
   "outputs": [
    {
     "name": "stdout",
     "output_type": "stream",
     "text": [
      "[  1   2   3   4   5   6   7   8   9  10  11  12  13  14  15  16  17  18\n",
      "  19  20  21  22  23  24  25  26  27  28  29  30  31  32  33  34  35  36\n",
      "  37  38  39  40  41  42  43  44  45  46  47  48  49  50  51  52  53  54\n",
      "  55  56  57  58  59  60  61  62  63  64  65  66  67  68  69  70  71  72\n",
      "  73  74  75  76  77  78  79  80  81  82  83  84  85  86  87  88  89  90\n",
      "  91  92  93  94  95  96  97  98  99 100]\n",
      "[ 25  97  44   1  69  95  34  42  22  27  20  32   5  36  19  79  80  50\n",
      "  74  98  93  35   4  56  92   2  48  15  43  10  91  26  87  58   7  29\n",
      "  73  49  70  46  66  53   6  76  72  96  47  65  11  77   3   8  18  59\n",
      "  41  21  60  82 100  78  86  85  67  14  38  54  63  33  88  40  37  16\n",
      "  24  99  39  89  71  12  45  68   9  62  51  30  81  75  31  52  55  57\n",
      "  84  28  23  13  61  64  17  94  83  90]\n",
      "[ 12   3 100  26  76  86  75  49  13  38  70   7  25  46  69  91  64  39\n",
      "  45  62  73  18  37  93  42  59  84  89  88  87   1   5  23  77   9  55\n",
      "  58  85  28  78  52  90  71  67  24  96  82  29  19  44   6  47  97  21\n",
      "  16  74  92  22   4  50  36  68  54  80  94  83  20  41  51  32  15  33\n",
      "  72  81  56   8  61  40  14  63  43  11   2  98  66  99  34  30  57  95\n",
      "  79  17  10  60  31  35  27  65  53  48]\n"
     ]
    }
   ],
   "source": [
    "# Create 1d NumPy arrays named 'Id', 'ML_score','DE_score'. 'Id' array\n",
    "# should contain unique sequential values, ‘ML_score' and 'DE_score'\n",
    "# should contain random integer values ranging from 1 to 100\n",
    "\n",
    "import numpy as np\n",
    "import random\n",
    "\n",
    "Id = np.array(range(1, 101))\n",
    "ML_score = np.array(random.sample(range(1, 101), 100))\n",
    "DE_score = np.array(random.sample(range(1, 101), 100))\n",
    "\n",
    "print(Id)\n",
    "print(ML_score)\n",
    "print(DE_score)"
   ]
  },
  {
   "cell_type": "code",
   "execution_count": 22,
   "id": "01f06202-fd4d-48cb-bf6b-1bee5d494741",
   "metadata": {},
   "outputs": [
    {
     "name": "stdout",
     "output_type": "stream",
     "text": [
      "[[  1  25  12]\n",
      " [  2  97   3]\n",
      " [  3  44 100]\n",
      " [  4   1  26]\n",
      " [  5  69  76]\n",
      " [  6  95  86]\n",
      " [  7  34  75]\n",
      " [  8  42  49]\n",
      " [  9  22  13]\n",
      " [ 10  27  38]\n",
      " [ 11  20  70]\n",
      " [ 12  32   7]\n",
      " [ 13   5  25]\n",
      " [ 14  36  46]\n",
      " [ 15  19  69]\n",
      " [ 16  79  91]\n",
      " [ 17  80  64]\n",
      " [ 18  50  39]\n",
      " [ 19  74  45]\n",
      " [ 20  98  62]\n",
      " [ 21  93  73]\n",
      " [ 22  35  18]\n",
      " [ 23   4  37]\n",
      " [ 24  56  93]\n",
      " [ 25  92  42]\n",
      " [ 26   2  59]\n",
      " [ 27  48  84]\n",
      " [ 28  15  89]\n",
      " [ 29  43  88]\n",
      " [ 30  10  87]\n",
      " [ 31  91   1]\n",
      " [ 32  26   5]\n",
      " [ 33  87  23]\n",
      " [ 34  58  77]\n",
      " [ 35   7   9]\n",
      " [ 36  29  55]\n",
      " [ 37  73  58]\n",
      " [ 38  49  85]\n",
      " [ 39  70  28]\n",
      " [ 40  46  78]\n",
      " [ 41  66  52]\n",
      " [ 42  53  90]\n",
      " [ 43   6  71]\n",
      " [ 44  76  67]\n",
      " [ 45  72  24]\n",
      " [ 46  96  96]\n",
      " [ 47  47  82]\n",
      " [ 48  65  29]\n",
      " [ 49  11  19]\n",
      " [ 50  77  44]\n",
      " [ 51   3   6]\n",
      " [ 52   8  47]\n",
      " [ 53  18  97]\n",
      " [ 54  59  21]\n",
      " [ 55  41  16]\n",
      " [ 56  21  74]\n",
      " [ 57  60  92]\n",
      " [ 58  82  22]\n",
      " [ 59 100   4]\n",
      " [ 60  78  50]\n",
      " [ 61  86  36]\n",
      " [ 62  85  68]\n",
      " [ 63  67  54]\n",
      " [ 64  14  80]\n",
      " [ 65  38  94]\n",
      " [ 66  54  83]\n",
      " [ 67  63  20]\n",
      " [ 68  33  41]\n",
      " [ 69  88  51]\n",
      " [ 70  40  32]\n",
      " [ 71  37  15]\n",
      " [ 72  16  33]\n",
      " [ 73  24  72]\n",
      " [ 74  99  81]\n",
      " [ 75  39  56]\n",
      " [ 76  89   8]\n",
      " [ 77  71  61]\n",
      " [ 78  12  40]\n",
      " [ 79  45  14]\n",
      " [ 80  68  63]\n",
      " [ 81   9  43]\n",
      " [ 82  62  11]\n",
      " [ 83  51   2]\n",
      " [ 84  30  98]\n",
      " [ 85  81  66]\n",
      " [ 86  75  99]\n",
      " [ 87  31  34]\n",
      " [ 88  52  30]\n",
      " [ 89  55  57]\n",
      " [ 90  57  95]\n",
      " [ 91  84  79]\n",
      " [ 92  28  17]\n",
      " [ 93  23  10]\n",
      " [ 94  13  60]\n",
      " [ 95  61  31]\n",
      " [ 96  64  35]\n",
      " [ 97  17  27]\n",
      " [ 98  94  65]\n",
      " [ 99  83  53]\n",
      " [100  90  48]]\n"
     ]
    }
   ],
   "source": [
    "# Make a single 2d array named 'student_data' from the above 1d\n",
    "# arrays with 'Id', ML_score' and 'DE_scores' as columns.\n",
    "\n",
    "student_data = np.array(list(zip(Id, ML_score, DE_score)))\n",
    "print(student_data)\n"
   ]
  },
  {
   "cell_type": "code",
   "execution_count": null,
   "id": "fbead466-5096-4e28-9606-43bc2dab071d",
   "metadata": {},
   "outputs": [],
   "source": [
    "# Create a new array named avg_score and assign the average values\n",
    "# of ML and DL scores of each student. Add this array as a new\n",
    "# column into the student_data. Print the ‘student_data’ array values\n",
    "# of top 5 performers based on avg-score.\n",
    "\n"
   ]
  },
  {
   "cell_type": "code",
   "execution_count": 40,
   "id": "22ed3f79-dd62-4d79-b986-60a9cf3187bb",
   "metadata": {},
   "outputs": [
    {
     "name": "stdout",
     "output_type": "stream",
     "text": [
      "[[21.  93.  73.  83. ]\n",
      " [16.  79.  91.  85. ]\n",
      " [86.  75.  99.  87. ]\n",
      " [74.  99.  81.  90. ]\n",
      " [ 6.  95.  86.  90.5]\n",
      " [46.  96.  96.  96. ]]\n"
     ]
    }
   ],
   "source": [
    "l = list()\n",
    "for i in student_data:\n",
    "    l.append((i[1]+i[2])/2)\n",
    "avg_score = np.array(l)\n",
    "\n",
    "# student_data = np.append(ini_array, column_to_be_added, axis=1)\n",
    "\n",
    "student_data = np.array([student_data.T[0], student_data.T[1], student_data.T[2], avg_score]).T\n",
    "\n",
    "# dt = {'names':['id', 's1', 's2', 'avg'], 'formats':[np.float32, np.float32, np.float32]}\n",
    "# dt = {'names':['ID', 'Ring'], 'formats':[np.int32, np.int32]}\n",
    "# student_data.dtype = dt\n",
    "# np.sort(student_data, order=\"avg\")\n",
    "\n",
    "# max_val = list()\n",
    "# for x in student_data:\n",
    "#     # print(x[3])\n",
    "#     max_val.append()\n",
    "\n",
    "student_data = student_data[student_data[:, 3].argsort()]\n",
    "print(student_data[94:, :])\n",
    "# print(student_data)"
   ]
  },
  {
   "cell_type": "code",
   "execution_count": 41,
   "id": "984586d7-2aae-4f03-bdeb-310e198109cb",
   "metadata": {},
   "outputs": [
    {
     "name": "stdout",
     "output_type": "stream",
     "text": [
      "[['51.0' '3.0' '6.0' '4.5' 'E']\n",
      " ['35.0' '7.0' '9.0' '8.0' 'E']\n",
      " ['4.0' '1.0' '26.0' '13.5' 'E']\n",
      " ['49.0' '11.0' '19.0' '15.0' 'E']\n",
      " ['13.0' '5.0' '25.0' '15.0' 'E']\n",
      " ['32.0' '26.0' '5.0' '15.5' 'E']\n",
      " ['93.0' '23.0' '10.0' '16.5' 'E']\n",
      " ['9.0' '22.0' '13.0' '17.5' 'E']\n",
      " ['1.0' '25.0' '12.0' '18.5' 'E']\n",
      " ['12.0' '32.0' '7.0' '19.5' 'E']\n",
      " ['23.0' '4.0' '37.0' '20.5' 'E']\n",
      " ['97.0' '17.0' '27.0' '22.0' 'E']\n",
      " ['92.0' '28.0' '17.0' '22.5' 'E']\n",
      " ['72.0' '16.0' '33.0' '24.5' 'E']\n",
      " ['81.0' '9.0' '43.0' '26.0' 'E']\n",
      " ['78.0' '12.0' '40.0' '26.0' 'E']\n",
      " ['71.0' '37.0' '15.0' '26.0' 'E']\n",
      " ['22.0' '35.0' '18.0' '26.5' 'E']\n",
      " ['83.0' '51.0' '2.0' '26.5' 'E']\n",
      " ['52.0' '8.0' '47.0' '27.5' 'E']\n",
      " ['55.0' '41.0' '16.0' '28.5' 'E']\n",
      " ['79.0' '45.0' '14.0' '29.5' 'E']\n",
      " ['26.0' '2.0' '59.0' '30.5' 'E']\n",
      " ['87.0' '31.0' '34.0' '32.5' 'E']\n",
      " ['10.0' '27.0' '38.0' '32.5' 'E']\n",
      " ['70.0' '40.0' '32.0' '36.0' 'E']\n",
      " ['94.0' '13.0' '60.0' '36.5' 'E']\n",
      " ['82.0' '62.0' '11.0' '36.5' 'E']\n",
      " ['68.0' '33.0' '41.0' '37.0' 'E']\n",
      " ['43.0' '6.0' '71.0' '38.5' 'E']\n",
      " ['54.0' '59.0' '21.0' '40.0' 'E']\n",
      " ['88.0' '52.0' '30.0' '41.0' 'E']\n",
      " ['14.0' '36.0' '46.0' '41.0' 'E']\n",
      " ['67.0' '63.0' '20.0' '41.5' 'E']\n",
      " ['36.0' '29.0' '55.0' '42.0' 'E']\n",
      " ['15.0' '19.0' '69.0' '44.0' 'E']\n",
      " ['18.0' '50.0' '39.0' '44.5' 'E']\n",
      " ['11.0' '20.0' '70.0' '45.0' 'E']\n",
      " ['8.0' '42.0' '49.0' '45.5' 'E']\n",
      " ['31.0' '91.0' '1.0' '46.0' 'E']\n",
      " ['95.0' '61.0' '31.0' '46.0' 'E']\n",
      " ['64.0' '14.0' '80.0' '47.0' 'E']\n",
      " ['48.0' '65.0' '29.0' '47.0' 'E']\n",
      " ['75.0' '39.0' '56.0' '47.5' 'E']\n",
      " ['56.0' '21.0' '74.0' '47.5' 'E']\n",
      " ['73.0' '24.0' '72.0' '48.0' 'E']\n",
      " ['45.0' '72.0' '24.0' '48.0' 'E']\n",
      " ['30.0' '10.0' '87.0' '48.5' 'E']\n",
      " ['76.0' '89.0' '8.0' '48.5' 'E']\n",
      " ['39.0' '70.0' '28.0' '49.0' 'E']\n",
      " ['96.0' '64.0' '35.0' '49.5' 'E']\n",
      " ['2.0' '97.0' '3.0' '50.0' 'E']\n",
      " ['28.0' '15.0' '89.0' '52.0' 'E']\n",
      " ['59.0' '100.0' '4.0' '52.0' 'E']\n",
      " ['58.0' '82.0' '22.0' '52.0' 'E']\n",
      " ['7.0' '34.0' '75.0' '54.5' 'E']\n",
      " ['33.0' '87.0' '23.0' '55.0' 'E']\n",
      " ['89.0' '55.0' '57.0' '56.0' 'E']\n",
      " ['53.0' '18.0' '97.0' '57.5' 'E']\n",
      " ['41.0' '66.0' '52.0' '59.0' 'E']\n",
      " ['19.0' '74.0' '45.0' '59.5' 'E']\n",
      " ['50.0' '77.0' '44.0' '60.5' 'D']\n",
      " ['63.0' '67.0' '54.0' '60.5' 'D']\n",
      " ['61.0' '86.0' '36.0' '61.0' 'D']\n",
      " ['40.0' '46.0' '78.0' '62.0' 'D']\n",
      " ['84.0' '30.0' '98.0' '64.0' 'D']\n",
      " ['60.0' '78.0' '50.0' '64.0' 'D']\n",
      " ['47.0' '47.0' '82.0' '64.5' 'D']\n",
      " ['80.0' '68.0' '63.0' '65.5' 'D']\n",
      " ['37.0' '73.0' '58.0' '65.5' 'D']\n",
      " ['29.0' '43.0' '88.0' '65.5' 'D']\n",
      " ['65.0' '38.0' '94.0' '66.0' 'D']\n",
      " ['27.0' '48.0' '84.0' '66.0' 'D']\n",
      " ['77.0' '71.0' '61.0' '66.0' 'D']\n",
      " ['38.0' '49.0' '85.0' '67.0' 'D']\n",
      " ['25.0' '92.0' '42.0' '67.0' 'D']\n",
      " ['34.0' '58.0' '77.0' '67.5' 'D']\n",
      " ['99.0' '83.0' '53.0' '68.0' 'D']\n",
      " ['66.0' '54.0' '83.0' '68.5' 'D']\n",
      " ['100.0' '90.0' '48.0' '69.0' 'D']\n",
      " ['69.0' '88.0' '51.0' '69.5' 'D']\n",
      " ['42.0' '53.0' '90.0' '71.5' 'C']\n",
      " ['44.0' '76.0' '67.0' '71.5' 'C']\n",
      " ['3.0' '44.0' '100.0' '72.0' 'C']\n",
      " ['17.0' '80.0' '64.0' '72.0' 'C']\n",
      " ['5.0' '69.0' '76.0' '72.5' 'C']\n",
      " ['85.0' '81.0' '66.0' '73.5' 'C']\n",
      " ['24.0' '56.0' '93.0' '74.5' 'C']\n",
      " ['90.0' '57.0' '95.0' '76.0' 'C']\n",
      " ['57.0' '60.0' '92.0' '76.0' 'C']\n",
      " ['62.0' '85.0' '68.0' '76.5' 'C']\n",
      " ['98.0' '94.0' '65.0' '79.5' 'C']\n",
      " ['20.0' '98.0' '62.0' '80.0' 'B']\n",
      " ['91.0' '84.0' '79.0' '81.5' 'B']\n",
      " ['21.0' '93.0' '73.0' '83.0' 'B']\n",
      " ['16.0' '79.0' '91.0' '85.0' 'B']\n",
      " ['86.0' '75.0' '99.0' '87.0' 'B']\n",
      " ['74.0' '99.0' '81.0' '90.0' 'A']\n",
      " ['6.0' '95.0' '86.0' '90.5' 'A']\n",
      " ['46.0' '96.0' '96.0' '96.0' 'A']]\n"
     ]
    }
   ],
   "source": [
    "# add a new column in the ‘student_data’ which contains grades A,\n",
    "# B, C, D, E based on avg_scores >=90,>=80,>=70,>=60, <60.\n",
    "\n",
    "def formGrade(x):\n",
    "    if x >= 90:\n",
    "        return 'A'\n",
    "    elif x >= 80:\n",
    "        return 'B'\n",
    "    elif x>= 70:\n",
    "        return 'C'\n",
    "    elif x>=60:\n",
    "        return 'D'\n",
    "    return 'E'\n",
    "\n",
    "grades = list()\n",
    "for x in student_data:\n",
    "    grades.append(formGrade(x[3]))\n",
    "\n",
    "student_data = np.array([student_data.T[0], student_data.T[1], student_data.T[2], student_data.T[3], grades]).T\n",
    "print(student_data)"
   ]
  },
  {
   "cell_type": "code",
   "execution_count": null,
   "id": "73b01db0-9d57-462b-ae61-d9c63ce5e60a",
   "metadata": {},
   "outputs": [],
   "source": []
  },
  {
   "cell_type": "code",
   "execution_count": 61,
   "id": "78e8d033-080a-4a07-8f7e-c0fa7fcd88e6",
   "metadata": {},
   "outputs": [
    {
     "name": "stdout",
     "output_type": "stream",
     "text": [
      "Prices: [ 4 10  4  4]\n",
      "Sales: \n",
      "[[ 324   84  304   64  192  276    4  352  368  132  208  316]\n",
      " [ 170  600  200  770  840  420  220  730 1000  180  610  360]\n",
      " [ 176   60   52   52  304  112  328   20  316   36  180  180]\n",
      " [ 388   60  356  232   88  328  116  200  228  240  340  228]]\n"
     ]
    }
   ],
   "source": [
    "# Create the following arrays, ‘sales_data’: A 4x12 matrix detailing monthly\n",
    "# sales quantities of 4 products across 12 months. ‘price_per_unit’: A 1D\n",
    "# array indicating the unit price for each product.\n",
    "\n",
    "prices = np.array([(random.randint(1, 10)) for i in range(4)])\n",
    "print(\"Prices:\", prices)\n",
    "sales = list()\n",
    "for price in prices:\n",
    "    l = list()\n",
    "    for i in range(12):\n",
    "        number_sold = random.randint(1, 100)\n",
    "        l.append(number_sold * price)\n",
    "    sales.append(l)\n",
    "\n",
    "sales_data = np.array(sales)\n",
    "print(\"Sales: \")\n",
    "print(sales_data)"
   ]
  },
  {
   "cell_type": "code",
   "execution_count": 62,
   "id": "6c36891b-fe82-4f1e-b9e5-7ad9d1dea541",
   "metadata": {},
   "outputs": [
    {
     "name": "stdout",
     "output_type": "stream",
     "text": [
      "[1058  804  912 1118 1424 1136  668 1302 1912  588 1338 1084]\n"
     ]
    }
   ],
   "source": [
    "# Calculate total revenue for each month by performing matrix operation of\n",
    "# above arrays\n",
    "\n",
    "matrix = np.array([1, 1, 1, 1])\n",
    "revenue = np.matmul(matrix, sales_data)\n",
    "print(revenue)"
   ]
  },
  {
   "cell_type": "code",
   "execution_count": 63,
   "id": "f011d75e-2e9f-48f7-967d-d979ce2b8544",
   "metadata": {},
   "outputs": [
    {
     "data": {
      "image/png": "[encoded data removed]",
      "text/plain": [
       "<Figure size 640x480 with 1 Axes>"
      ]
     },
     "metadata": {},
     "output_type": "display_data"
    },
    {
     "data": {
      "image/png": "[encoded data removed]",
      "text/plain": [
       "<Figure size 640x480 with 1 Axes>"
      ]
     },
     "metadata": {},
     "output_type": "display_data"
    }
   ],
   "source": [
    "# Create the following visualizations using Matplotlib: A bar plot comparing\n",
    "# the total revenue for each month, and a line plot showing the revenue trend\n",
    "# over the 12 months for one specific product (choose any product)\n",
    "\n",
    "import matplotlib.pyplot as plt \n",
    "\n",
    "months = ['jan', 'feb', 'march', 'april', 'may', 'june', 'july', 'aug', 'sep', 'oct', 'nov', 'dec']\n",
    "plt.bar(months, revenue)\n",
    "plt.show()\n",
    "\n",
    "plt.plot(sales_data[0, :].T)\n",
    "plt.xlabel(\"Months\")\n",
    "plt.show()"
   ]
  },
  {
   "cell_type": "code",
   "execution_count": null,
   "id": "874a7a1e-b137-4de0-a17e-bcfa7526b93e",
   "metadata": {},
   "outputs": [],
   "source": []
  }
 ],
 "metadata": {
  "kernelspec": {
   "display_name": "Python 3 (ipykernel)",
   "language": "python",
   "name": "python3"
  },
  "language_info": {
   "codemirror_mode": {
    "name": "ipython",
    "version": 3
   },
   "file_extension": ".py",
   "mimetype": "text/x-python",
   "name": "python",
   "nbconvert_exporter": "python",
   "pygments_lexer": "ipython3",
   "version": "3.9.19"
  }
 },
 "nbformat": 4,
 "nbformat_minor": 5
}
